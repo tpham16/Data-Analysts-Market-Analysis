{
 "cells": [
  {
   "cell_type": "code",
   "execution_count": 1,
   "metadata": {},
   "outputs": [
    {
     "name": "stdout",
     "output_type": "stream",
     "text": [
      "R-squared value: -1.834419829390083e+16\n",
      "Coefficients: [ 6.15895402e+03 -4.85966962e+03  2.72836851e+16 -2.56229359e+04\n",
      " -4.02387675e+16 -1.17864829e+04  4.10206513e+03  7.93981912e+02\n",
      "  4.55408859e+03  3.29276115e+04 -1.12950077e+04  5.08348681e+04\n",
      "  2.14043289e+04  8.14064244e+03 -4.09826859e+15 -9.18859522e+15\n",
      "  2.50285536e+03 -2.72026602e+04  3.93505507e+04 -8.15008081e+15\n",
      " -4.81126233e+03  1.50756843e+04  6.39501187e+15 -1.42450926e+04\n",
      "  1.29183695e+15 -1.45319445e+04  2.53460460e+04 -1.10530410e+17\n",
      "  6.93712746e+03 -1.26019140e+04  2.12414009e+04 -6.94472447e+03\n",
      " -1.07197074e+14  3.04936326e+14 -8.50134478e+14  1.21247500e+04\n",
      " -4.46000000e+03  2.30480000e+04  1.09412500e+04  3.69000000e+03\n",
      " -4.14620000e+04  5.21395938e+04 -1.80601875e+04 -4.61375000e+03\n",
      "  9.73620000e+04 -3.23580000e+04  1.10530410e+17  8.24000000e+02\n",
      " -1.33800000e+03 -9.42000000e+03 -1.55212500e+04 -4.62280000e+04\n",
      "  4.52680000e+04  3.69645000e+04 -1.91400000e+04 -1.30666095e+13\n",
      "  6.39096901e+11 -1.69545215e+13  2.31520000e+04  1.28535602e+12\n",
      "  1.21840000e+04 -7.02600000e+03 -9.72400000e+03  9.73575000e+03\n",
      "  1.56540000e+04  1.69490000e+04  1.14686631e+12 -3.22853125e+04\n",
      " -1.36760000e+04  3.13200000e+03  1.02167500e+04 -8.05545312e+03\n",
      "  6.26600000e+03 -2.86960000e+04  1.98800000e+03 -1.44540000e+04\n",
      "  1.28230000e+04  1.88800000e+03 -3.58400000e+03  2.86480000e+04\n",
      " -1.19036595e+08 -1.94450000e+03 -9.69063521e+06  5.24400000e+03\n",
      "  4.16800000e+03 -2.98475000e+03  9.85400000e+03  6.36396875e+04\n",
      " -4.65373750e+04 -1.59800000e+03 -3.39650000e+04  1.48240000e+04\n",
      " -1.60000000e+01  3.29150000e+04  3.29692500e+04 -1.37600000e+03\n",
      " -1.81740000e+04  4.91200000e+03 -7.32900000e+03  1.12680000e+04\n",
      "  7.32900000e+03  9.84300000e+03  1.58400000e+03 -5.46520000e+04\n",
      " -3.37285000e+04  0.00000000e+00  0.00000000e+00  0.00000000e+00\n",
      "  3.48610000e+04 -8.47440000e+04  0.00000000e+00 -2.39700000e+03\n",
      " -2.68600000e+03 -4.37750000e+03  0.00000000e+00  0.00000000e+00\n",
      " -1.00240000e+04  1.26600000e+03  0.00000000e+00  1.18285000e+04\n",
      " -7.51600000e+03]\n"
     ]
    }
   ],
   "source": [
    "from sklearn.linear_model import LinearRegression\n",
    "from sklearn.model_selection import train_test_split\n",
    "import pandas as pd\n",
    "\n",
    "standard_salaries = pd.read_csv('data/cleaned_data.csv')\n",
    "\n",
    "# create X and y arrays\n",
    "skills = standard_salaries.loc[:, 'airflow':'word']\n",
    "schedule_type = pd.get_dummies(standard_salaries['schedule_type'], drop_first=True)\n",
    "work_from_home = standard_salaries['work_from_home']\n",
    "\n",
    "X = pd.concat([skills, schedule_type, work_from_home], axis=1)\n",
    "y = standard_salaries['salary_standardized']\n",
    "\n",
    "# split data into training and testing sets\n",
    "X_train, X_test, y_train, y_test = train_test_split(X, y, test_size=0.2, random_state=0)\n",
    "\n",
    "# create a linear regression model and fit it to the training data\n",
    "model = LinearRegression()\n",
    "model.fit(X_train, y_train)\n",
    "\n",
    "# print the R-squared value of the model on the test set\n",
    "print(f\"R-squared value: {model.score(X_test, y_test)}\")\n",
    "print(f\"Coefficients: {model.coef_}\")\n",
    "\n"
   ]
  }
 ],
 "metadata": {
  "kernelspec": {
   "display_name": "Python 3",
   "language": "python",
   "name": "python3"
  },
  "language_info": {
   "codemirror_mode": {
    "name": "ipython",
    "version": 3
   },
   "file_extension": ".py",
   "mimetype": "text/x-python",
   "name": "python",
   "nbconvert_exporter": "python",
   "pygments_lexer": "ipython3",
   "version": "3.10.7"
  },
  "orig_nbformat": 4,
  "vscode": {
   "interpreter": {
    "hash": "722b6f501d3291d098eeb116c55030d7476387c4156a20534e17b28f07582bab"
   }
  }
 },
 "nbformat": 4,
 "nbformat_minor": 2
}
